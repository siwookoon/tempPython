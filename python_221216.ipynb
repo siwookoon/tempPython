{
 "cells": [
  {
   "cell_type": "markdown",
   "id": "97cc5b00-521e-44c0-ba48-f62a5eeaa50d",
   "metadata": {},
   "source": [
    "## 문자열 연산자\n",
    "- 덧셈과 곱셈 활용"
   ]
  },
  {
   "cell_type": "code",
   "execution_count": 2,
   "id": "d81e9f17-ed1c-48c7-b8c2-811e4d430d4a",
   "metadata": {},
   "outputs": [
    {
     "name": "stdout",
     "output_type": "stream",
     "text": [
      "Hello\n",
      "World\n"
     ]
    }
   ],
   "source": [
    "a = 'Hello'\n",
    "b = 'World'\n",
    "\n",
    "print(a)\n",
    "print(b)"
   ]
  },
  {
   "cell_type": "code",
   "execution_count": 6,
   "id": "f890ced7-126d-468f-aba4-10e5f4c5d508",
   "metadata": {},
   "outputs": [
    {
     "name": "stdout",
     "output_type": "stream",
     "text": [
      "HelloWorld\n",
      "HelloWorldHelloWorldHelloWorld\n"
     ]
    }
   ],
   "source": [
    "c = a+b\n",
    "\n",
    "print(c)\n",
    "print(c*3)"
   ]
  },
  {
   "cell_type": "markdown",
   "id": "02cf1ee4-e970-40a7-84ea-a7a372726104",
   "metadata": {},
   "source": [
    "## 인덱싱 (Indexing)\n",
    "- 문자열 범위 지정 및 추출"
   ]
  },
  {
   "cell_type": "code",
   "execution_count": 12,
   "id": "8f74f532-4266-471a-b820-cd593d2ade0c",
   "metadata": {},
   "outputs": [
    {
     "name": "stdout",
     "output_type": "stream",
     "text": [
      "H\n",
      "e\n",
      "l\n",
      "l\n",
      "o\n",
      " \n",
      "W\n",
      "o\n",
      "l\n",
      "r\n",
      "d\n"
     ]
    },
    {
     "ename": "IndexError",
     "evalue": "string index out of range",
     "output_type": "error",
     "traceback": [
      "\u001b[1;31m---------------------------------------------------------------------------\u001b[0m",
      "\u001b[1;31mIndexError\u001b[0m                                Traceback (most recent call last)",
      "Cell \u001b[1;32mIn[12], line 13\u001b[0m\n\u001b[0;32m     11\u001b[0m \u001b[38;5;28mprint\u001b[39m(greeting[\u001b[38;5;241m9\u001b[39m])\n\u001b[0;32m     12\u001b[0m \u001b[38;5;28mprint\u001b[39m(greeting[\u001b[38;5;241m10\u001b[39m])\n\u001b[1;32m---> 13\u001b[0m \u001b[38;5;28mprint\u001b[39m(\u001b[43mgreeting\u001b[49m\u001b[43m[\u001b[49m\u001b[38;5;241;43m11\u001b[39;49m\u001b[43m]\u001b[49m)\n",
      "\u001b[1;31mIndexError\u001b[0m: string index out of range"
     ]
    }
   ],
   "source": [
    "greeting = \"Hello Wolrd\"\n",
    "print(greeting[0])\n",
    "print(greeting[1])\n",
    "print(greeting[2])\n",
    "print(greeting[3])\n",
    "print(greeting[4])\n",
    "print(greeting[5])\n",
    "print(greeting[6])\n",
    "print(greeting[7])\n",
    "print(greeting[8])\n",
    "print(greeting[9])\n",
    "print(greeting[10])\n",
    "print(greeting[11])"
   ]
  },
  {
   "cell_type": "markdown",
   "id": "92a60c94-b417-42bb-a9c0-de556144b79a",
   "metadata": {},
   "source": [
    "## 슬라이싱\n",
    "- 주피터 노트북에서 마크다운으로 변환/ 마크다운으로 코드셀로 변환 단축키 존재"
   ]
  },
  {
   "cell_type": "code",
   "execution_count": 20,
   "id": "2b484960-effb-4922-ac43-500b7430c965",
   "metadata": {},
   "outputs": [
    {
     "name": "stdout",
     "output_type": "stream",
     "text": [
      "Hello World\n",
      "o World\n",
      "Hello \n",
      "lo Wo\n",
      "HloWrd\n",
      "loWrd\n",
      "Hlo\n"
     ]
    }
   ],
   "source": [
    "greeting = \"Hello World\"\n",
    "\n",
    "print(greeting[:])\n",
    "print(greeting[4:])\n",
    "print(greeting[:6])\n",
    "print(greeting[3:8])\n",
    "print(greeting[::2])\n",
    "print(greeting[2::2])\n",
    "print(greeting[:6:2])"
   ]
  },
  {
   "cell_type": "code",
   "execution_count": 25,
   "id": "56d8b299-5fbb-4b96-9e81-8871327befb7",
   "metadata": {},
   "outputs": [
    {
     "name": "stdout",
     "output_type": "stream",
     "text": [
      "123456789\n",
      "123456\n",
      "135\n"
     ]
    }
   ],
   "source": [
    "greeting = \"123456789\"\n",
    "\n",
    "print(greeting[:])\n",
    "print(greeting[:6])\n",
    "print(greeting[:6:2])"
   ]
  },
  {
   "cell_type": "markdown",
   "id": "62a17c83-13cc-4c35-aba4-9a34562b1739",
   "metadata": {},
   "source": [
    "## 리스트\n",
    "- 가장 기본적인 배열 자료형(?) / ArrayList\n",
    "- 시퀀스 데이터 : 데이터에 순서가 존재함"
   ]
  },
  {
   "cell_type": "code",
   "execution_count": 30,
   "id": "b0b0627f-51c3-48bb-bceb-425cd437e0de",
   "metadata": {},
   "outputs": [
    {
     "name": "stdout",
     "output_type": "stream",
     "text": [
      "[]\n",
      "<class 'list'>\n",
      "[]\n",
      "<class 'list'>\n"
     ]
    }
   ],
   "source": [
    "a = [] # 값이 비어있는 리스트\n",
    "a_list_func = list() # 값이 비어있는 리스트\n",
    "\n",
    "print(a)\n",
    "print(type(a))\n",
    "\n",
    "print(a_list_func)\n",
    "print(type(a_list_func))"
   ]
  },
  {
   "cell_type": "markdown",
   "id": "51e69507-d3b1-4408-9a37-c2347b157fc8",
   "metadata": {},
   "source": [
    "- 값을 추가한다."
   ]
  },
  {
   "cell_type": "code",
   "execution_count": 34,
   "id": "9c515fca-ceff-4654-a786-f8fa5963e809",
   "metadata": {},
   "outputs": [
    {
     "name": "stdout",
     "output_type": "stream",
     "text": [
      "[1, 2, 3, 4, 5, 6, 7, 8, ['apple', 'banana', 'carrot'], 'humanedu']\n",
      "1\n",
      "[1, 3, 5, 7]\n"
     ]
    }
   ],
   "source": [
    "a = [1,2,3,4,5,6,7,8,['apple','banana','carrot'],\"humanedu\"]\n",
    "print(a)\n",
    "print(a[0])\n",
    "print(a[0:7:2])"
   ]
  },
  {
   "cell_type": "markdown",
   "id": "b91f23f2-97ef-4264-8772-00a128e47e7f",
   "metadata": {},
   "source": [
    "- a리스트 안에 있는 banana 문자열에서 맨 마지막 글자 a를 추출한다.\n",
    "- 중첩리스트 : 리스트 안에 또다른 리스트가 존재함."
   ]
  },
  {
   "cell_type": "code",
   "execution_count": 42,
   "id": "6159d1e3-846c-47ad-a588-14d298cdd872",
   "metadata": {},
   "outputs": [
    {
     "name": "stdout",
     "output_type": "stream",
     "text": [
      "a\n"
     ]
    }
   ],
   "source": [
    "b = a[8][1][-1]\n",
    "print(b)"
   ]
  },
  {
   "cell_type": "code",
   "execution_count": 46,
   "id": "5db7b2a0-4a99-4031-aec4-ab166fc84238",
   "metadata": {},
   "outputs": [
    {
     "name": "stdout",
     "output_type": "stream",
     "text": [
      "o\n"
     ]
    }
   ],
   "source": [
    "b = a[8][2][-2]\n",
    "print(b)"
   ]
  },
  {
   "cell_type": "code",
   "execution_count": 50,
   "id": "6c299e37-cc86-4008-a3bb-fb265510d18a",
   "metadata": {},
   "outputs": [
    {
     "name": "stdout",
     "output_type": "stream",
     "text": [
      "e\n"
     ]
    }
   ],
   "source": [
    "b = a[9][-3]\n",
    "print(b)"
   ]
  },
  {
   "cell_type": "markdown",
   "id": "4b41632f-cd53-4c99-87c5-662e9ca8927d",
   "metadata": {},
   "source": [
    "## 리스트 연산자\n",
    "- 덧셈, 곱셈 적용 후 결과 확인"
   ]
  },
  {
   "cell_type": "code",
   "execution_count": 54,
   "id": "4712dafe-573c-47da-a354-10c47c56b1ec",
   "metadata": {},
   "outputs": [
    {
     "name": "stdout",
     "output_type": "stream",
     "text": [
      "[1, 2, 3, 4, 5, 6, 7]\n"
     ]
    }
   ],
   "source": [
    "a = [1,2,3]\n",
    "b = [4,5,6,7]\n",
    "\n",
    "print(a+b)"
   ]
  },
  {
   "cell_type": "code",
   "execution_count": 56,
   "id": "0bb859d5-ee84-473c-9206-c8170393dba4",
   "metadata": {},
   "outputs": [
    {
     "name": "stdout",
     "output_type": "stream",
     "text": [
      "[1, 2, 3, 1, 2, 3, 1, 2, 3]\n"
     ]
    }
   ],
   "source": [
    "a = [1,2,3]\n",
    "print(a*3)"
   ]
  },
  {
   "cell_type": "markdown",
   "id": "4d509c03-0e95-42ff-a22a-29672fd7aa17",
   "metadata": {},
   "source": [
    "## 리스트 값 수정하기\n",
    "- 리스트 내 원소의 값을 수정한다."
   ]
  },
  {
   "cell_type": "code",
   "execution_count": 59,
   "id": "1e5407f0-7eaf-4074-b946-cbf4ccea0dd7",
   "metadata": {},
   "outputs": [
    {
     "name": "stdout",
     "output_type": "stream",
     "text": [
      "['a', 'a', 'a', 'a']\n"
     ]
    }
   ],
   "source": [
    "a = ['a','b','a','a']\n",
    "a[1] = 'a'\n",
    "print(a)"
   ]
  },
  {
   "cell_type": "markdown",
   "id": "581c441b-0678-4316-b181-5f3b79506224",
   "metadata": {},
   "source": [
    "## 리스트 클래스 내부의 입력 함수\n",
    "- 참조 : https://docs.python.org/3/tutorial/datastructures.html"
   ]
  }
 ],
 "metadata": {
  "kernelspec": {
   "display_name": "Python 3 (ipykernel)",
   "language": "python",
   "name": "python3"
  },
  "language_info": {
   "codemirror_mode": {
    "name": "ipython",
    "version": 3
   },
   "file_extension": ".py",
   "mimetype": "text/x-python",
   "name": "python",
   "nbconvert_exporter": "python",
   "pygments_lexer": "ipython3",
   "version": "3.11.1"
  }
 },
 "nbformat": 4,
 "nbformat_minor": 5
}
